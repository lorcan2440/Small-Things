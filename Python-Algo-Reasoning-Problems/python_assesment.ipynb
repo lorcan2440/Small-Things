{
 "cells": [
  {
   "cell_type": "markdown",
   "metadata": {},
   "source": [
    "## Python Problem Solving and Logical Thinking Assesment\n",
    "\n",
    "5 questions, of increasing difficulty. The emphasis is more on logical thinking and explaining algorithms than knowing different libraries and details. Some questions also ask for you to write some code.\n",
    "\n",
    "- There is no time limit\n",
    "- It is OK to make mistakes, but be sure to ask for guidance or to clarify a question, and then make your best effort.\n",
    "- Explain your thought process for coding questions with comments.\n",
    "- You can use the internet to look up useful functions when coding, but not to find algorithms for the specific questions.\n",
    "- You may supplement answers to 'explain' questions with simple hand-drawn diagrams."
   ]
  },
  {
   "cell_type": "markdown",
   "metadata": {},
   "source": [
    "### Question 1 [5 pts]\n",
    "\n",
    "Explain, using only simple terms, the concepts of a `for` loop and a `while` loop. [5 pts]"
   ]
  },
  {
   "cell_type": "markdown",
   "metadata": {},
   "source": [
    "### Question 2 [12 pts]\n",
    "\n",
    "a) Describe, in a series of logical steps, a procedure which could take an input of any type from the user, and determine whether it is a square number or not. [4 pts]\n",
    "\n",
    "b) Write function to achieve this, returning a suitable data type. You should make use of docstrings, type hinting and exceptions where meaningful. [6 pts]\n",
    "\n",
    "c) What problem might occur if the input is both very large and very close to a square number? How could you handle this? [2 pts]"
   ]
  },
  {
   "cell_type": "markdown",
   "metadata": {},
   "source": [
    "### Question 3 [20 pts]\n",
    "\n",
    "The function `random.random()` from the builtin `random` library generates pseudorandom numbers, uniformly distributed between 0 and 1. The documentation for the `random` library is here: https://docs.python.org/3/library/random.html\n",
    "\n",
    "a) How could you use this function to generate random numbers between 1 and infinity? [3 pts]\n",
    "\n",
    "b) How does the distribution of the generated numbers change? [2 pts]\n",
    "\n",
    "c) Using functions from the `random` library, write a function which generates string passwords of a length randomly chosen between 6 and 18, using randomly chosen alphanumeric characters. [5 pts]\n",
    "\n",
    "d) Write a short program using your function to ensure that the outputted password contains no consecutive triplets of horizontally adjacent characters as laid out on a standard \"QWERTY\" keyboard.\n",
    "\n",
    "E.g. a password should never contain `'ASD'`, `'gHj'`, or `'456'`, since these patterns can be formed by moving right by one key on the keyboard, ignoring the cases of the letters. Patterns such as `'GHG'` and `'UYT'`, which are all adjacent but not consecutively moving right, *should* be allowed. [10 pts]"
   ]
  },
  {
   "cell_type": "markdown",
   "metadata": {},
   "source": [
    "### Question 4 [25 pts]\n",
    "\n",
    "A coin flip can return either Heads (H) or Tails (T). The function below calculates the number of ways to flip `num_flips` (a positive integer) coins and end up with no two consecutive Heads resulting from the flips.\n",
    "\n",
    "For example, when `num_flips` is 2, the possible sequences are {(H, T), (T, T), (T, H)} = 3 ways."
   ]
  },
  {
   "cell_type": "code",
   "execution_count": null,
   "metadata": {},
   "outputs": [],
   "source": [
    "def count_nonconsecutive_flips(num_flips: int) -> int:\n",
    "    if num_flips == 1:\n",
    "        return 2\n",
    "    elif num_flips == 2:\n",
    "        return 3\n",
    "    else:\n",
    "        return count_nonconsecutive_flips(num_flips - 1) + count_nonconsecutive_flips(num_flips - 2)"
   ]
  },
  {
   "cell_type": "markdown",
   "metadata": {},
   "source": [
    "a) Describe the control flow of the program when the function is called with `num_flips = 4`. [5 pts]\n",
    "\n",
    "b) Explain carefully the logic behind this algorithm, why it works, and why it is recursive. [6 pts]\n",
    "\n",
    "c) Describe the runtime of this algorithm in terms of `num_flips`, stating it quantitatively with Big-O notation. [5 pts]\n",
    "\n",
    "d) Explain how memoisation could be used to improve this algorithm. [5 pts]\n",
    "\n",
    "e) Is it possible to obtain O(1) runtime for this task? [4 pts]\n",
    "\n",
    "*(Implementations of d) and e) are not required but could be discussed in words.)*"
   ]
  },
  {
   "cell_type": "markdown",
   "metadata": {},
   "source": [
    "### Question 5 [30 pts]\n",
    "\n",
    "_Bit packing_ is a process used to compress a series of *N*-digit binary numbers into lists of bytes (8-digit binary numbers, always), without wasting space.\n",
    "\n",
    "- Each number is packed by starting with the rightmost bit of the number and storing that bit on the rightmost position of the result.\n",
    "- Then, the next rightmost bit is retrieved and stored, until all the bits are stored.\n",
    "- If there is no more room to fit more bits, the next part of the output is used instead.\n",
    "- Any remaining positions in the last part of the output once all input bits are packed are filled with zeroes.\n",
    "\n",
    "An example is as follows, where the input binary numbers are 5-bit numbers, represented as 5-character strings. Suppose we are bit-packing the input list of strings `['11001', '01000', '01101']`:\n",
    "\n",
    "| Item being packed | Building the result |  |\n",
    "| --- | --- | --- |\n",
    "| 11001 | **11001** | (1 byte) |\n",
    "| 01**000** | **000**11001 | (1 byte, no room to store integer) |\n",
    "| **01**000 | 00011001; **01** | (2 bytes, remaining bits are stored in next byte) |\n",
    "| 01101 | 00011001; **01101**01 | (2 bytes) |\n",
    "| -- | 00011001; **0**0110101 | (2 bytes, remaining bits are filled with zeros) |\n",
    "\n",
    "The output is then displayed as a list of these output strings, i.e. `['00011001', '00110101']`.\n",
    "\n",
    "a) Implement the bit-packing algorithm as a function in Python. Your function should take a single input of type `list[str]` and output a single output of type `list[str]`, raising suitable exceptions where relevant. [18 pts]\n",
    "\n",
    "b) Verify your function works using unit tests for the following four cases: [6 pts]\n",
    "\n",
    "| Input                                 |  Expected output / result | Reason / comment |\n",
    "| --- | --- | --- |\n",
    "| `['11001', '01000', '01101']`      |     `['00011001', '00110101']`      |    (the above example) |\n",
    "| `['000', '010', '011', '111', '111']`  | `['11010000', '01111110']` |  |\n",
    "| `['1110010101', '0000110101']`  |  `['10010101', '11010111', '00000000']` | |\n",
    "| `['10111', '1011', '10000']`  | raises `ValueError` | inputs have different length |\n",
    "\n",
    "c) Describe in words how you might implement the reverse operation of unpacking the output of this function into a list of *N*-bit binary numbers, where *N* is already known. What other information is required to start unpacking correctly? [6 pts]\n"
   ]
  }
 ],
 "metadata": {
  "interpreter": {
   "hash": "48bc1adadf068390df094af2817427bb98804c126167c549ebf0e78e6ba34aa9"
  },
  "kernelspec": {
   "display_name": "Python 3.10.0 ('AllLibs310')",
   "language": "python",
   "name": "python3"
  },
  "language_info": {
   "name": "python",
   "version": "3.10.0"
  },
  "orig_nbformat": 4
 },
 "nbformat": 4,
 "nbformat_minor": 2
}
