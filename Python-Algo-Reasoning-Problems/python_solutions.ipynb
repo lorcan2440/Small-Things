{
 "cells": [
  {
   "cell_type": "markdown",
   "metadata": {},
   "source": [
    "### Question 1"
   ]
  },
  {
   "cell_type": "markdown",
   "metadata": {},
   "source": [
    "The answer should be simple and efficient, not too technical or detailed.\n",
    "\n",
    "- A `for` loop involves passing through each item in a given list and using it for some purpose. This continues once per item, from start to finish, ending once all items in the list have been used.\n",
    "\n",
    "- A `while` loop involves repeatedly going through a process until a given condition is met, at which point the loop exits."
   ]
  },
  {
   "cell_type": "markdown",
   "metadata": {},
   "source": [
    "### Question 2"
   ]
  },
  {
   "cell_type": "markdown",
   "metadata": {},
   "source": [
    "**a)**\n",
    "\n",
    "1. Take the square root of the input and store this in a variable *a*;\n",
    "2. Check if *a* is equal to the rounded/truncated form of *a*;\n",
    "3. If so, return `True`, otherwise return `False`."
   ]
  },
  {
   "cell_type": "markdown",
   "metadata": {},
   "source": [
    "**b)**"
   ]
  },
  {
   "cell_type": "code",
   "execution_count": 6,
   "metadata": {},
   "outputs": [],
   "source": [
    "import math\n",
    "\n",
    "\n",
    "def is_square(val: int) -> bool:\n",
    "\n",
    "    '''\n",
    "    Determines whether a given number is a perfect square.\n",
    "\n",
    "    #### Arguments\n",
    "\n",
    "    `val` (int): input value to check.\n",
    "    \n",
    "    #### Returns\n",
    "\n",
    "    `bool`: True for a square number, False if not.\n",
    "    \n",
    "    #### Raises\n",
    "    \n",
    "    `TypeError`: if the input is not an integer or a float.\n",
    "    `ValueError`: if the input is a negative number.\n",
    "    '''\n",
    "\n",
    "    if not isinstance(val, (int, float)):\n",
    "        raise TypeError(f'The input must be either an integer or a float, not {type(val)}.')\n",
    "\n",
    "    square_root = math.sqrt(val)\n",
    "\n",
    "    return square_root == int(square_root)\n"
   ]
  },
  {
   "cell_type": "markdown",
   "metadata": {},
   "source": [
    "**c)**\n",
    "\n",
    "Due to the limited precision, the square root of a large number which is e.g. 1 more than a perfect square could be truncated to an integer, so the test for equality would pass and the function would return `True`.\n",
    "\n",
    "This can be solved by re-calculating the square: if `square_root ** 2 == val` is `True`, then the result is a `True` positive, and if not, then it is `False`.\n",
    "\n",
    "This could be compactly written as\n",
    "`return square_root == int(square_root) and square_root ** 2 == val`."
   ]
  },
  {
   "cell_type": "markdown",
   "metadata": {},
   "source": [
    "### Question 3"
   ]
  },
  {
   "cell_type": "markdown",
   "metadata": {},
   "source": [
    "**a)**\n",
    "\n",
    "Take the reciprocal of the randomly generated number.\n",
    "\n",
    "According to the documentation, the `random.random()` function returns numbers in the half-open interval [0, 1) i.e. including 0 but not 1, so this gives numbers in the open range (1, +∞]. An edge case should therefore be added to handle the (*extremely* unlikely but still possible) case of a `DivisionByZero` error, which could be either rejected and retried or return the special value `'inf'` depending on the use case.\n",
    "\n",
    "**b)**\n",
    "\n",
    "The distribution will be skewed such that numbers closer to 1 will be more likely, since a higher proportion of the interval (0, 1) maps to this region when dividing 1 by it. Larger numbers become less and less likely, but any number above 1 is possible (to within the precision specification).\n",
    "\n",
    "**c)**"
   ]
  },
  {
   "cell_type": "code",
   "execution_count": 14,
   "metadata": {},
   "outputs": [],
   "source": [
    "import random\n",
    "\n",
    "\n",
    "MIN_PASSWORD_LENGTH = 6\n",
    "MAX_PASSWORD_LENGTH = 18\n",
    "\n",
    "\n",
    "def generate_password() -> str:\n",
    "\n",
    "    '''\n",
    "    Creates a random string password using alphanumeric characters.\n",
    "    The length of the password is randomly chosen between 6 and 18.\n",
    "    \n",
    "    #### Returns\n",
    "    \n",
    "    str: a randomly generated password\n",
    "    '''\n",
    "\n",
    "    ALPHANUMERICS = 'ABCDEFGHIJKLMNOPQRSTUVWXYZabcdefghijklmnopqrstuvwxyz0123456789'\n",
    "\n",
    "    password_length = random.randrange(MIN_PASSWORD_LENGTH, MAX_PASSWORD_LENGTH + 1)\n",
    "    password_chars = random.choices(ALPHANUMERICS, k=password_length)  # sample from ALPHANUMERICS, password_length times\n",
    "\n",
    "    return ''.join(password_chars)  # combine list of characters into a single string"
   ]
  },
  {
   "cell_type": "markdown",
   "metadata": {},
   "source": [
    "Some alternative implementations are to:\n",
    "\n",
    "- use a `for` loop to append random characters one by one, possibly in a list comprehension\n",
    "- build the string directly (without using a list) using concatenation."
   ]
  },
  {
   "cell_type": "markdown",
   "metadata": {},
   "source": [
    "**d)**"
   ]
  },
  {
   "cell_type": "code",
   "execution_count": 67,
   "metadata": {},
   "outputs": [],
   "source": [
    "import random\n",
    "\n",
    "\n",
    "MIN_PASSWORD_LENGTH = 6\n",
    "MAX_PASSWORD_LENGTH = 18\n",
    "\n",
    "\n",
    "def generate_password_no_triplets() -> str:\n",
    "\n",
    "    '''\n",
    "    Creates a random string password using alphanumeric characters.\n",
    "    The length of the password is randomly chosen between 6 and 18.\n",
    "    The generated password is guaranteed not to contain any triplets\n",
    "    of adjacent characters on a QWERTY keyboard. \n",
    "    \n",
    "    #### Returns\n",
    "    \n",
    "    str: a randomly generated password with no triplets.\n",
    "    '''\n",
    "\n",
    "    KEYBOARD_LINES = ['1234567890', 'qwertyuiop', 'asdfghjkl', 'zxcvbnm']\n",
    "\n",
    "    pass_str = generate_password()  # get initial password, then check if valid\n",
    "    pass_lower = pass_str.lower()  # convert to lower case to ignore casing\n",
    "\n",
    "    for i in range(len(pass_lower) - 2):  # iterate through the indices of the first to the third-to-last character\n",
    "        triplet = pass_str[i:i + 3]  # get triplet including this character and the next two\n",
    "        triplet_str = ''.join(triplet)  # get triplet as a string\n",
    "        if any([triplet_str in line for line in KEYBOARD_LINES]):  # search each keyboard line for the triplet\n",
    "            return generate_password_no_triplets()  # consective triplet found: generate a new password instead\n",
    "        \n",
    "    return pass_str  # if all checks pass, no triplets exist so the original password is OK"
   ]
  },
  {
   "cell_type": "markdown",
   "metadata": {},
   "source": [
    "This could be done using the original code, or moved to a separate function like done here."
   ]
  },
  {
   "cell_type": "markdown",
   "metadata": {},
   "source": [
    "### Question 4\n",
    "\n",
    "**a)**\n",
    "\n",
    "- `num_flips` is set to 4.\n",
    "- The checks for equality with `1` or `2` both fail so the program moves to the `else` statement.\n",
    "- The program is called again, this time with `num_flips` set to `2` and `3` in separate processes.\n",
    "- The process with `num_flips = 2` fails the check for equality with `1`, then passes the check for equality with `2`, and therefore returns `3`.\n",
    "- The process with `num_flips = 3` fails both equality checks and is called again with `num_flips` set to `1` and `2` in separate processes.\n",
    "- The process with `num_flips = 1` passes the check for equality with `1` and therefore returns `2`.\n",
    "- The process with `num_flips = 2` fails the check for equality with `1`, then passes the check for equality with `2`, and therefore returns `3`.\n",
    "- These two are then added to end the second process, giving `2 + 3 = 5`.\n",
    "- This ends the original process, giving `3 + 5 = 8`, so the final result is `8`.\n",
    "\n",
    "This could be more simply explained with a tree diagram, showing the different recursion depths and flow of data.\n",
    "\n",
    "**b)**\n",
    "\n",
    "- Consider a sequence of *n* flips, where *n* is arbitrary.\n",
    "- Let *f(n)* denote the number of ways for these *n* flips to land without having a consecutive Heads.\n",
    "- If the sequence starts with Tails (T), then the remaining *n - 1* flips cannot contain two consecutive Heads for this sequence to be allowed.\n",
    "- By definition, the number of ways of this happening is *f(n - 1)*.\n",
    "- If on the other hand the sequence starts with Heads (H), then the second flip *must* return Tails - otherwise the sequence would not be allowed. The remaining *n - 2* flips then cannot contain two consectuve Heads - the number of ways of this happening is *f(n - 2)*\n",
    "- Since *all* sequences must fit into one of these descriptions (starts with either H or T), we have enumerated all possibilities and so we find *f(n) = f(n - 1) + f(n - 2)*.\n",
    "\n",
    "This is naturally a recursive process since each subsequent flip limits the allowed sample space for the future flips, down to the base cases of the last few flips where the number of ways is easily found by simple counting.\n",
    "\n",
    "**c)**\n",
    "\n",
    "Since each function call spawns two new calls, the algorithm has time complexity *O(2^n)*, growing exponentially with *n*. This is always true for Fibonacci-type inductive sequences, or could be deduced from first principles using the function call tree.\n",
    "\n",
    "**d)**\n",
    "\n",
    "Memoisation involves caching of previous function calls so they can be reused when needed. This can be either manually implemented (save results in a dict mapping *n* to the output, pass this cache in every recursive call, check if *n* is in the cache at the start of every call) or using one of the decorators in the builtin `functools` library e.g. `@functools.lru_cache` is very suitable for this particular case. Caching significantly improves the runtime to *O(n)* since every 'smaller' branch of the recursion tree is cut by evaluating directly from the cache.\n",
    "\n",
    "**e)**\n",
    "\n",
    "The function is essentially solving the second-order difference equation `x_n = x_{n-1} + x_{n-2}; x_0 = 2; x_1 = 3`.\n",
    "Using mathematical techniques (convert to matrix form, diagonalise, take powers of *n* and expand), this can be solved for an explicit expression of the form `x_n = f(n)`, which is evaluated in constant runtime for any integer *n*."
   ]
  },
  {
   "cell_type": "markdown",
   "metadata": {},
   "source": [
    "### Question 5\n",
    "\n",
    "**a)**"
   ]
  },
  {
   "cell_type": "code",
   "execution_count": 69,
   "metadata": {},
   "outputs": [],
   "source": [
    "def bit_pack(in_list: list[str]) -> list[str]:\n",
    "    '''\n",
    "    Packs a list of constant-sized input bitstrings into a list of 8-bit strings.\n",
    "    \n",
    "    #### Arguments\n",
    "    \n",
    "    `in_list` (list[str]): list of strings, each containing a fixed number of '0's and '1's.\n",
    "    \n",
    "    #### Returns\n",
    "    \n",
    "    list[str]: packed bitstrings, each item has 8 characters.\n",
    "    \n",
    "    #### Raises\n",
    "    \n",
    "    `ValueError`: if the bitstrings in the input have different lengths.\n",
    "    '''    \n",
    "\n",
    "    if len({len(s) for s in in_list}) != 1:\n",
    "        raise ValueError\n",
    "\n",
    "    input_bits = len(in_list[0])    # number of bits per input bitstring\n",
    "    OUTPUT_BITS = 8                 # number of bits per output bitstring\n",
    "\n",
    "    i = input_bits - 1          # index within an input item, initialised to the last character\n",
    "    item = 0                    # index within the input list, initialised to the first\n",
    "    s_ = in_list[item][i]       # bytestring output to be built up, \n",
    "                                # initialised to the last character of the first input item\n",
    "    output = []                 # output array, initially empty\n",
    "\n",
    "    while item < len(in_list):\n",
    "        if len(s_) < OUTPUT_BITS and i > 0:     # if there is still space in the output bytestring...\n",
    "            i = i - 1                           # move our pointer left\n",
    "            s_ = in_list[item][i] + s_          # append the bit to the current working bytestring\n",
    "        elif i == 0:                            # if we have reached the leftmost point in the item...\n",
    "            i = input_bits                      # move the pointer to be (one beyond) the rightmost position\n",
    "            item = item + 1                     # move to the next item in the input array\n",
    "        elif len(s_) == OUTPUT_BITS:            # if our working bytestring is full...\n",
    "            output.append(s_)                   # append it to output, this byte is fully packed\n",
    "            if i == 0:                          # if we are also at the start of the item...\n",
    "                i = input_bits - 1              # move the pointer to the rightmost position\n",
    "                item = item + 1                 # move to the next item in the input array\n",
    "            else:                               # if were are not at the start of the item...\n",
    "                i = i - 1                       # move our pointer left\n",
    "            s_ = in_list[item][i]               # start a new working bytestring, initialise to the rightmost bit again\n",
    "\n",
    "    s_ = '0' * (OUTPUT_BITS - len(s_)) + s_     # once all bits are packed, fill in enough zeroes\n",
    "                                                # to close the final working bytestring\n",
    "    output.append(s_)                           # append this last byte to the end of the output\n",
    "    return output                               # and finally return the completely packed bytearray"
   ]
  },
  {
   "cell_type": "markdown",
   "metadata": {},
   "source": [
    "**b)**"
   ]
  },
  {
   "cell_type": "code",
   "execution_count": 72,
   "metadata": {},
   "outputs": [
    {
     "name": "stderr",
     "output_type": "stream",
     "text": [
      "....\n",
      "----------------------------------------------------------------------\n",
      "Ran 4 tests in 0.005s\n",
      "\n",
      "OK\n"
     ]
    },
    {
     "data": {
      "text/plain": [
       "<unittest.main.TestProgram at 0x1b47f59fc10>"
      ]
     },
     "execution_count": 72,
     "metadata": {},
     "output_type": "execute_result"
    }
   ],
   "source": [
    "import unittest\n",
    "\n",
    "\n",
    "class TestBitPacker(unittest.TestCase):\n",
    "\n",
    "    def test_example(self):\n",
    "        \n",
    "        output = bit_pack(['11001', '01000', '01101'])\n",
    "        self.assertEqual(output, ['00011001', '00110101'])\n",
    "\n",
    "    def test_shorter_bits(self):\n",
    "\n",
    "        output = bit_pack(['000', '010', '011', '111', '111'])\n",
    "        self.assertEqual(output, ['11010000', '01111110'])\n",
    "\n",
    "    def test_longer_bits(self):\n",
    "\n",
    "        output = bit_pack(['1110010101', '0000110101'])\n",
    "        self.assertEqual(output, ['10010101', '11010111', '00000000'])\n",
    "\n",
    "    def test_different_lengths(self):\n",
    "\n",
    "        self.assertRaises(ValueError, bit_pack, ['10111', '1011', '10000'])\n",
    "\n",
    "\n",
    "unittest.main(argv=['_'], exit=False)  # kwargs required in Jupyter notebook due to https://stackoverflow.com/a/38012249"
   ]
  },
  {
   "cell_type": "markdown",
   "metadata": {},
   "source": [
    "**c)**\n",
    "\n",
    "- We would need to know the number of items in the original input, since this information is lost by padding the last byte with zeroes.\n",
    "- Start by removing `8 - ((num_items * N) % 8)` leftmost zeroes from the last bytestring.\n",
    "- Essentially use the same algorithm, but moving the pointer towards the right each step instead of left, and returning to the leftmost position at the end of each item instead of the rightmost.\n",
    "- The first 'byte' will need to be handled differently since it may have a different length to all the other bytes.\n",
    "- This could be implemented by modifying the original function to accept variable length inputs, and a keyword argument on whether to count left or right: unpacking would then be equivalent to packing with the direction set to 'right' instead of 'left'."
   ]
  }
 ],
 "metadata": {
  "interpreter": {
   "hash": "48bc1adadf068390df094af2817427bb98804c126167c549ebf0e78e6ba34aa9"
  },
  "kernelspec": {
   "display_name": "Python 3.10.0 ('AllLibs310')",
   "language": "python",
   "name": "python3"
  },
  "language_info": {
   "codemirror_mode": {
    "name": "ipython",
    "version": 3
   },
   "file_extension": ".py",
   "mimetype": "text/x-python",
   "name": "python",
   "nbconvert_exporter": "python",
   "pygments_lexer": "ipython3",
   "version": "3.10.0"
  },
  "orig_nbformat": 4
 },
 "nbformat": 4,
 "nbformat_minor": 2
}
